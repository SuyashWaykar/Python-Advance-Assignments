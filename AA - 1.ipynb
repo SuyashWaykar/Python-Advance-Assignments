{
 "cells": [
  {
   "cell_type": "markdown",
   "id": "d9741539",
   "metadata": {},
   "source": [
    "### 1. What is the purpose of Python's OOP?"
   ]
  },
  {
   "cell_type": "markdown",
   "id": "bf12e30e",
   "metadata": {},
   "source": [
    "Ans: In Python, object-oriented programming (OOPs) uses objects and classes in programming. It aims to implement real-world entities like inheritance, polymorphisms, encapsulation, etc. in the programming. The main concept of OOPs is to bind the data and the functions that work on that together as a single unit so that no other part of the code can access this data."
   ]
  },
  {
   "cell_type": "markdown",
   "id": "07e01ebc",
   "metadata": {},
   "source": [
    "### 2. Where does as inheritance search look for an attribute?\n"
   ]
  },
  {
   "cell_type": "markdown",
   "id": "1d01a806",
   "metadata": {},
   "source": [
    "Ans: Python searches for an attribute in an upward tree of attributes. it first searches for the attribute in its instance and then looks in the class it is generated from, to all super classes listed in its class header."
   ]
  },
  {
   "cell_type": "markdown",
   "id": "0d38d0fc",
   "metadata": {},
   "source": [
    "### 3. How do you distinguish between a class object and an instance object?"
   ]
  },
  {
   "cell_type": "markdown",
   "id": "e16f914e",
   "metadata": {},
   "source": [
    "Ans: Class is a template for creating objects whereas object is an instance of class. Seperate memory is allocated for each object whenever an object is created but for a class this does not happens. A Class is created once and many objects are created using a class. As Classes have no allocated memory, they can't be manipulated but objects can be manipulated."
   ]
  },
  {
   "cell_type": "markdown",
   "id": "ebd5e5da",
   "metadata": {},
   "source": [
    "### 4. What makes the first argument in a class’s method function special?"
   ]
  },
  {
   "cell_type": "markdown",
   "id": "6d511fed",
   "metadata": {},
   "source": [
    "Ans: Python Classes usually have three types of methods which are:\n",
    "\n",
    "    Instance Methods (object level methods)\n",
    "\n",
    "    Class Methods (class level methods)\n",
    "\n",
    "    Static Methods (general utility methods)\n",
    "\n",
    "    self is the first argument for instance methods. which refers to the object itself.\n",
    "\n",
    "    cls is the first argument for class methods which refers to the class itself."
   ]
  },
  {
   "cell_type": "markdown",
   "id": "88a79f99",
   "metadata": {},
   "source": [
    "### 5. What is the purpose of the init method?"
   ]
  },
  {
   "cell_type": "markdown",
   "id": "4abdbcb4",
   "metadata": {},
   "source": [
    "Ans: init is a reseved method in python classes. It serves the role of a constructor in object oriented terminology. This method is called when an object is created from a class and it allows the class to initialize the attributes of the class."
   ]
  },
  {
   "cell_type": "markdown",
   "id": "eedfe59c",
   "metadata": {},
   "source": [
    "### 6. What is the process for creating a class instance?"
   ]
  },
  {
   "cell_type": "markdown",
   "id": "50e735b7",
   "metadata": {},
   "source": [
    "Ans: To create a class instance, we need to call the class by its name and pass the arguments to the class, which its init method accepts.\n",
    "\n",
    "Example:-\n",
    "my_name = my_class(\"vaishnavi\",\"vaishu\") Here my_name is an instance of class my_class with attributes \"vaishnavi\" and \"Vaishu\"."
   ]
  },
  {
   "cell_type": "markdown",
   "id": "256b0a4a",
   "metadata": {},
   "source": [
    "### 7. What is the process for creating a class?"
   ]
  },
  {
   "cell_type": "markdown",
   "id": "57c4407a",
   "metadata": {},
   "source": [
    "Ans: class keyword is used to created a class in python. The syntax to create a class in python is class :\n",
    "\n",
    "Example: class shop: ➞ this creates a class called shop"
   ]
  },
  {
   "cell_type": "markdown",
   "id": "1c30a3f6",
   "metadata": {},
   "source": [
    "### 8. How would you define the superclasses of a class?"
   ]
  },
  {
   "cell_type": "markdown",
   "id": "adbd8ef4",
   "metadata": {},
   "source": [
    "Ans: Superclass/Parent class is given as a arugment to the child class"
   ]
  }
 ],
 "metadata": {
  "kernelspec": {
   "display_name": "Python 3 (ipykernel)",
   "language": "python",
   "name": "python3"
  },
  "language_info": {
   "codemirror_mode": {
    "name": "ipython",
    "version": 3
   },
   "file_extension": ".py",
   "mimetype": "text/x-python",
   "name": "python",
   "nbconvert_exporter": "python",
   "pygments_lexer": "ipython3",
   "version": "3.9.12"
  }
 },
 "nbformat": 4,
 "nbformat_minor": 5
}
