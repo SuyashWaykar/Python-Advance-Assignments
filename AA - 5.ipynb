{
 "cells": [
  {
   "cell_type": "markdown",
   "id": "e8aa6be7",
   "metadata": {},
   "source": [
    "### 1. What is the meaning of multiple inheritance?"
   ]
  },
  {
   "cell_type": "markdown",
   "id": "ed0d3485",
   "metadata": {},
   "source": [
    "Ans: Inheritence is reusing the code of Parent class by the child class. Similary when a child class inherits its properties from multiple Parent classes this scenario is called Multiple Inheritence."
   ]
  },
  {
   "cell_type": "code",
   "execution_count": 1,
   "id": "d3d2ec46",
   "metadata": {},
   "outputs": [],
   "source": [
    "class Parent_one:\n",
    "    pass\n",
    "class Parent_two:\n",
    "    pass\n",
    "class child(Parent_one,Parent_two):\n",
    "    pass"
   ]
  },
  {
   "cell_type": "markdown",
   "id": "82735a49",
   "metadata": {},
   "source": [
    "### 2. What is the concept of delegation?"
   ]
  },
  {
   "cell_type": "markdown",
   "id": "8ad0225e",
   "metadata": {},
   "source": [
    "Ans: Delegation provides a proxy object for any class thay you want on top of the main class. its like a wrapper to your class so that you can access limited resources of the main class. It wraps the object of main class into a smaller object with limited access.\n",
    "\n",
    "Simply Delegation means that you can include a instance of another class as an instance variable, and forward messages to the instance."
   ]
  },
  {
   "cell_type": "markdown",
   "id": "fcf4197f",
   "metadata": {},
   "source": [
    "### 3. What is the concept of composition?"
   ]
  },
  {
   "cell_type": "markdown",
   "id": "91a914ef",
   "metadata": {},
   "source": [
    "Ans: In the concept of Composition, a class refers to one or more other classes by using instances of those classes as a instance variable. irrespective of inheritence in this approach all the parent class members are not inherited into child class, but only required methods from a class are used by using class instances."
   ]
  },
  {
   "cell_type": "markdown",
   "id": "dad5b31d",
   "metadata": {},
   "source": [
    "### 4. What are bound methods and how do we use them?"
   ]
  },
  {
   "cell_type": "markdown",
   "id": "01530fcf",
   "metadata": {},
   "source": [
    "Ans: If a function is an attribute of class and it is accessed via the instances, they are called bound methods. A bound method is one that has self as its first argument. Since these are dependent on the instance of classes, these are also known as instance methods."
   ]
  },
  {
   "cell_type": "markdown",
   "id": "185a32e4",
   "metadata": {},
   "source": [
    "### 5. What is the purpose of pseudoprivate attributes?"
   ]
  },
  {
   "cell_type": "markdown",
   "id": "f3ee8eb3",
   "metadata": {},
   "source": [
    "Ans: Pseudoprivate attributes are also useful in larger frameworks or tools, both to avoid introducing new method names that might accidentally hide definitions elsewhere in the class tree and to reduce the chance of internal methods being replaced by names defined lower in the tree. If a method is intended for use only within a class that may be mixed into other classes, the double underscore prefix ensures that the method won't interfere with other names in the tree, especially in multiple-inheritance scenarios.\n",
    "\n",
    "Pseudoprivate names also prevent subclasses from accidentally redefining the internal method's names."
   ]
  },
  {
   "cell_type": "code",
   "execution_count": 2,
   "id": "d7164ce8",
   "metadata": {},
   "outputs": [],
   "source": [
    "class Super:\n",
    "    def method(self): # A real application method\n",
    "        pass\n",
    "class Tool:\n",
    "    def _method(self): # becomes _Tool_method\n",
    "        pass\n",
    "    def other(self): # uses internal method\n",
    "        self._method()\n",
    "class Subl(Tool,Super):\n",
    "    def actions(self):\n",
    "        self.method()\n",
    "class Sub2(Tool):\n",
    "    def __init__(self):\n",
    "        self.method = 99"
   ]
  }
 ],
 "metadata": {
  "kernelspec": {
   "display_name": "Python 3 (ipykernel)",
   "language": "python",
   "name": "python3"
  },
  "language_info": {
   "codemirror_mode": {
    "name": "ipython",
    "version": 3
   },
   "file_extension": ".py",
   "mimetype": "text/x-python",
   "name": "python",
   "nbconvert_exporter": "python",
   "pygments_lexer": "ipython3",
   "version": "3.9.12"
  }
 },
 "nbformat": 4,
 "nbformat_minor": 5
}
